{
 "cells": [
  {
   "cell_type": "markdown",
   "metadata": {},
   "source": [
    "# Percolation Test"
   ]
  },
  {
   "cell_type": "markdown",
   "metadata": {},
   "source": [
    "### Import Libraries"
   ]
  },
  {
   "cell_type": "code",
   "execution_count": 8,
   "metadata": {},
   "outputs": [
    {
     "name": "stderr",
     "output_type": "stream",
     "text": [
      "2024-04-11 13:23:37.221633: I tensorflow/core/util/port.cc:113] oneDNN custom operations are on. You may see slightly different numerical results due to floating-point round-off errors from different computation orders. To turn them off, set the environment variable `TF_ENABLE_ONEDNN_OPTS=0`.\n",
      "2024-04-11 13:23:37.255613: I tensorflow/core/platform/cpu_feature_guard.cc:210] This TensorFlow binary is optimized to use available CPU instructions in performance-critical operations.\n",
      "To enable the following instructions: AVX2 AVX_VNNI FMA, in other operations, rebuild TensorFlow with the appropriate compiler flags.\n",
      "2024-04-11 13:23:37.701060: W tensorflow/compiler/tf2tensorrt/utils/py_utils.cc:38] TF-TRT Warning: Could not find TensorRT\n"
     ]
    }
   ],
   "source": [
    "import matplotlib.pyplot as plt\n",
    "import cmcrameri\n",
    "import h5py\n",
    "import numpy as np\n",
    "from scipy import ndimage\n",
    "import seaborn as sns\n",
    "import pandas as pd\n",
    "from cmcrameri import cm\n",
    "import natsort\n",
    "\n",
    "import sys\n",
    "sys.path.append('./..')\n",
    "from src.utils import get_cluster_labels, get_ds_iters\n",
    "from src.training_utils import extract_floats\n",
    "\n",
    "np.set_printoptions(precision=5)"
   ]
  },
  {
   "cell_type": "markdown",
   "metadata": {},
   "source": [
    "### Define Auxiliary Functions"
   ]
  },
  {
   "cell_type": "code",
   "execution_count": 2,
   "metadata": {},
   "outputs": [],
   "source": [
    "def get_biggest_cluster_loc(file, idx):\n",
    "    kernel = [[0, 1, 0], [1, 1, 1], [0, 1, 0]]\n",
    "    labelled, _ = get_cluster_labels(file, idx)\n",
    "    lb = labelled.flatten()\n",
    "    cluster_sizes = np.bincount(lb)[1:]\n",
    "    biggest_cluster_id = np.argmax(cluster_sizes) + 1\n",
    "    return np.where(labelled == biggest_cluster_id)\n",
    "\n",
    "\n",
    "def check_threshold(locs, threshold=20, dim=128):\n",
    "    #print(np.ptp(locs[0]), np.ptp(locs[1]))\n",
    "    if np.ptp(locs[0]) >= 128-threshold:\n",
    "        return True\n",
    "    if np.ptp(locs[1]) >= 128-threshold:\n",
    "        return True\n",
    "    return False"
   ]
  },
  {
   "cell_type": "markdown",
   "metadata": {},
   "source": [
    "### Establish Percolation Values\n",
    "NOTE: this program is set to append, so it will pile on the same data if this notebook is reran."
   ]
  },
  {
   "cell_type": "code",
   "execution_count": 50,
   "metadata": {},
   "outputs": [
    {
     "name": "stdout",
     "output_type": "stream",
     "text": [
      "0.016 0.45 0.8463157894736842\n",
      "0.023 0.45 0.8010526315789473\n",
      "0.034 0.45 0.651578947368421\n",
      "0.050 0.45 0.5063157894736842\n",
      "0.073 0.45 0.4231578947368421\n",
      "0.107 0.45 0.4189473684210526\n",
      "0.157 0.45 0.32105263157894737\n",
      "0.231 0.45 0.3105263157894737\n",
      "0.340 0.45 0.24210526315789474\n",
      "0.500 0.45 0.16631578947368422\n"
     ]
    }
   ],
   "source": [
    "tumbles = np.logspace(-6,-1,10,base=2)\n",
    "densities = [0.05,0.1,0.15,0.2,0.25,0.3,0.35,0.4,0.45,0.5]\n",
    "files = []\n",
    "\n",
    "for tumble in tumbles:\n",
    "    for density in densities:\n",
    "        files.append(f\"../data/no-rolling/dataset_tumble_{tumble:.3f}_density_{density}.h5\")\n",
    "\n",
    "for ctr,file in enumerate(files):\n",
    "    with h5py.File(file, \"r\") as fin:\n",
    "        key_list = list(fin.keys())\n",
    "        iter_n = get_ds_iters(key_list)\n",
    "        percolating = 0\n",
    "        total = 0\n",
    "        for idx in range(50,1000): #amount of snapshots we have in the data sets\n",
    "            locs = get_biggest_cluster_loc(file,idx)\n",
    "            percolating += check_threshold(locs)\n",
    "            total+=1\n",
    "    ratio = float(percolating) / float(total)\n",
    "    values = extract_floats(file)\n",
    "    output_line = f\"{values[0]} {values[1]} {ratio}\\n\"\n",
    "    with open(\"cache/percolation.txt\", \"a\") as cache:\n",
    "        cache.write(output_line)\n",
    "        print(output_line,end='')\n",
    "        \n"
   ]
  },
  {
   "cell_type": "markdown",
   "metadata": {},
   "source": [
    "### Read Percolations"
   ]
  },
  {
   "cell_type": "code",
   "execution_count": 54,
   "metadata": {},
   "outputs": [
    {
     "name": "stdout",
     "output_type": "stream",
     "text": [
      "tumble 0.016, dens 0.45 undergoes percolation\n",
      "tumble 0.016, dens 0.5 undergoes percolation\n",
      "tumble 0.023, dens 0.45 undergoes percolation\n",
      "tumble 0.023, dens 0.5 undergoes percolation\n",
      "tumble 0.034, dens 0.5 undergoes percolation\n",
      "tumble 0.05, dens 0.5 undergoes percolation\n",
      "tumble 0.073, dens 0.5 undergoes percolation\n"
     ]
    }
   ],
   "source": [
    "with open(\"cache/percolation.txt\", 'r') as cache:\n",
    "    res = cache.readlines()\n",
    "    perc = []\n",
    "    for val in res:\n",
    "        line_list = [float(i) for i in val.split(\" \")]\n",
    "        perc.append(line_list[2])\n",
    "        if line_list[2] > 0.75: #frequency threshold for percolating condition is 75%\n",
    "            print(f\"tumble {line_list[0]}, dens {line_list[1]} undergoes percolation\")\n",
    "    #perc = [float(val.strip('\\n')) for val in res[2]]\n",
    "    perc = np.reshape(perc, (10,10))"
   ]
  },
  {
   "cell_type": "markdown",
   "metadata": {},
   "source": [
    "### Plot Results"
   ]
  },
  {
   "cell_type": "code",
   "execution_count": 69,
   "metadata": {},
   "outputs": [
    {
     "name": "stderr",
     "output_type": "stream",
     "text": [
      "/tmp/ipykernel_9498/2130497943.py:12: UserWarning: set_ticklabels() should only be used with a fixed number of ticks, i.e. after set_ticks() or using a FixedLocator.\n",
      "  ax.set_yticklabels(np.round(xlabels,3)[::2])\n",
      "/tmp/ipykernel_9498/2130497943.py:13: UserWarning: set_ticklabels() should only be used with a fixed number of ticks, i.e. after set_ticks() or using a FixedLocator.\n",
      "  ax.set_xticklabels(np.round(ylabels,3)[::2])\n"
     ]
    },
    {
     "data": {
      "text/plain": [
       "Text(8.75, 3, 'Percolating')"
      ]
     },
     "execution_count": 69,
     "metadata": {},
     "output_type": "execute_result"
    },
    {
     "data": {
      "image/png": "[encoded data removed]",
      "text/plain": [
       "<Figure size 500x500 with 2 Axes>"
      ]
     },
     "metadata": {},
     "output_type": "display_data"
    }
   ],
   "source": [
    "tumbles = np.logspace(-6,-1,10, base=2)\n",
    "density = [0.05,0.1,0.15,0.2,0.25,0.3,0.35,0.4,0.45,0.5]\n",
    "\n",
    "cmap = plt.get_cmap('cmc.acton')\n",
    "\n",
    "xlabels = np.concatenate(([0,0],tumbles))\n",
    "ylabels = np.concatenate(([0,0],density))\n",
    "\n",
    "fig, ax = plt.subplots(1,1, figsize=(5,5), constrained_layout=True)\n",
    "m = ax.imshow(perc, cmap=cmap.reversed())\n",
    "cbar = plt.colorbar(ax=ax, mappable=m, location='top', aspect=20, fraction=0.046, pad=0.05)\n",
    "ax.set_yticklabels(np.round(xlabels,3)[::2])\n",
    "ax.set_xticklabels(np.round(ylabels,3)[::2])\n",
    "\n",
    "ax.plot([7.5,7.5,8.5,8.5,9.5],[-0.5,1.5,1.5,4.5,4.5], c='white', linestyle='--')\n",
    "\n",
    "cbar.ax.set_xlabel('Percolation Frequency')\n",
    "\n",
    "ax.set_ylabel(r\"Tumbling rate ($P_t$)\")\n",
    "ax.set_xlabel(r\"Density ($\\rho$)\")\n",
    "\n",
    "ax.text(s=\"Percolating\", x=8.75, y=3, c='w', rotation=90, fontsize=16)"
   ]
  },
  {
   "cell_type": "markdown",
   "metadata": {},
   "source": []
  }
 ],
 "metadata": {
  "kernelspec": {
   "display_name": "venv-tflow",
   "language": "python",
   "name": "python3"
  },
  "language_info": {
   "codemirror_mode": {
    "name": "ipython",
    "version": 3
   },
   "file_extension": ".py",
   "mimetype": "text/x-python",
   "name": "python",
   "nbconvert_exporter": "python",
   "pygments_lexer": "ipython3",
   "version": "3.10.12"
  }
 },
 "nbformat": 4,
 "nbformat_minor": 2
}
