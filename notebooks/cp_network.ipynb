{
 "cells": [
  {
   "cell_type": "markdown",
   "id": "d63235b7",
   "metadata": {},
   "source": [
    "# Preliminary CNN Training and Analysis\n",
    "\n",
    "This is a brief example of the methodology used throughout the CNN training and analysis part of this project. "
   ]
  },
  {
   "cell_type": "markdown",
   "id": "14ec1392-cf44-405b-a9d0-64556b795072",
   "metadata": {},
   "source": [
    "#  Import packages"
   ]
  },
  {
   "cell_type": "code",
   "execution_count": 1,
   "id": "80b1ed2f-e9e7-4839-b7d8-8e08a0d7b8e7",
   "metadata": {},
   "outputs": [
    {
     "name": "stderr",
     "output_type": "stream",
     "text": [
      "2024-02-14 14:08:18.312814: E tensorflow/compiler/xla/stream_executor/cuda/cuda_dnn.cc:9342] Unable to register cuDNN factory: Attempting to register factory for plugin cuDNN when one has already been registered\n",
      "2024-02-14 14:08:18.312841: E tensorflow/compiler/xla/stream_executor/cuda/cuda_fft.cc:609] Unable to register cuFFT factory: Attempting to register factory for plugin cuFFT when one has already been registered\n",
      "2024-02-14 14:08:18.312870: E tensorflow/compiler/xla/stream_executor/cuda/cuda_blas.cc:1518] Unable to register cuBLAS factory: Attempting to register factory for plugin cuBLAS when one has already been registered\n",
      "2024-02-14 14:08:18.319367: I tensorflow/core/platform/cpu_feature_guard.cc:182] This TensorFlow binary is optimized to use available CPU instructions in performance-critical operations.\n",
      "To enable the following instructions: AVX2 FMA, in other operations, rebuild TensorFlow with the appropriate compiler flags.\n",
      "2024-02-14 14:08:19.589028: W tensorflow/compiler/tf2tensorrt/utils/py_utils.cc:38] TF-TRT Warning: Could not find TensorRT\n"
     ]
    }
   ],
   "source": [
    "import numpy as np\n",
    "import h5py\n",
    "import glob\n",
    "import re\n",
    "import tensorflow as tf\n",
    "\n",
    "import matplotlib.pyplot as plt\n",
    "import matplotlib.ticker as ticker\n",
    "from scipy.stats import pearsonr\n",
    "\n",
    "np.set_printoptions(precision=3, suppress=True)"
   ]
  },
  {
   "cell_type": "markdown",
   "id": "2c7ca5fc-7b31-470a-acf6-29ec5544b11e",
   "metadata": {},
   "source": [
    "# Setup GPU"
   ]
  },
  {
   "cell_type": "markdown",
   "id": "1301b5bc-54be-4358-bb86-6d9f8671e7fd",
   "metadata": {},
   "source": [
    "First, follow instructions [here](https://gist.github.com/zrruziev/b93e1292bf2ee39284f834ec7397ee9f), or alternatively run:\n",
    "```bash\n",
    "for a in /sys/bus/pci/devices/*; do echo 0 | sudo tee -a $a/numa_node; done\n",
    "```\n",
    "We do this as a workaround for [this error](https://github.com/tensorflow/tensorflow/issues/42738):"
   ]
  },
  {
   "cell_type": "code",
   "execution_count": 2,
   "id": "c4254e19-b9cb-4555-af86-4f539bff196d",
   "metadata": {},
   "outputs": [
    {
     "name": "stdout",
     "output_type": "stream",
     "text": [
      "[] \n"
     ]
    },
    {
     "name": "stderr",
     "output_type": "stream",
     "text": [
      "2024-02-14 14:08:25.970865: I tensorflow/compiler/xla/stream_executor/cuda/cuda_gpu_executor.cc:894] successful NUMA node read from SysFS had negative value (-1), but there must be at least one NUMA node, so returning NUMA node zero. See more at https://github.com/torvalds/linux/blob/v6.0/Documentation/ABI/testing/sysfs-bus-pci#L344-L355\n",
      "2024-02-14 14:08:26.349400: W tensorflow/core/common_runtime/gpu/gpu_device.cc:2211] Cannot dlopen some GPU libraries. Please make sure the missing libraries mentioned above are installed properly if you would like to use GPU. Follow the guide at https://www.tensorflow.org/install/gpu for how to download and setup the required libraries for your platform.\n",
      "Skipping registering GPU devices...\n",
      "2024-02-14 14:08:26.353220: I tensorflow/compiler/xla/stream_executor/cuda/cuda_gpu_executor.cc:894] successful NUMA node read from SysFS had negative value (-1), but there must be at least one NUMA node, so returning NUMA node zero. See more at https://github.com/torvalds/linux/blob/v6.0/Documentation/ABI/testing/sysfs-bus-pci#L344-L355\n",
      "2024-02-14 14:08:26.353403: W tensorflow/core/common_runtime/gpu/gpu_device.cc:2211] Cannot dlopen some GPU libraries. Please make sure the missing libraries mentioned above are installed properly if you would like to use GPU. Follow the guide at https://www.tensorflow.org/install/gpu for how to download and setup the required libraries for your platform.\n",
      "Skipping registering GPU devices...\n"
     ]
    }
   ],
   "source": [
    "gpu_devices = tf.config.experimental.list_physical_devices('GPU')\n",
    "for device in gpu_devices:\n",
    "    tf.config.experimental.set_memory_growth(device, True)\n",
    "print(tf.config.list_physical_devices('GPU'), tf.test.gpu_device_name())"
   ]
  },
  {
   "cell_type": "markdown",
   "id": "bcab94fe-9123-4020-9df7-2e426a6749a3",
   "metadata": {},
   "source": [
    "# Import and prepare data"
   ]
  },
  {
   "cell_type": "code",
   "execution_count": 3,
   "id": "ce11abd2-4f97-4b40-a51a-9afd0e7811ea",
   "metadata": {},
   "outputs": [],
   "source": [
    "def extract_floats(string):\n",
    "    return re.findall(r\"[-+]?\\d*\\.\\d+|\\d+\", string)\n",
    "\n",
    "def data_load():\n",
    "    density = 0.15\n",
    "    files = glob.glob(f\"../data/dataset_tumble_*_0.15.h5\") #imports all tumbling rates for density 0.15\n",
    "    inputs,outputs = [],[]\n",
    "    for f in files:\n",
    "        tumble = float(extract_floats(f)[0])\n",
    "        with h5py.File(f, \"r\") as fin:\n",
    "          count = 0\n",
    "          for key in fin.keys():\n",
    "              img = fin[key][:]\n",
    "              img = img.reshape((img.shape[0], img.shape[1],1))\n",
    "              shape = img.shape\n",
    "              inputs.append(img)\n",
    "              outputs.append(tumble)\n",
    "              count+=1\n",
    "\n",
    "    # Scramble the dataset\n",
    "    order = np.arange(len(outputs)).astype(int)\n",
    "    order = np.random.permutation(order)\n",
    "    return np.array(inputs)[order],np.array(outputs)[order],shape"
   ]
  },
  {
   "cell_type": "code",
   "execution_count": 4,
   "id": "19a56273-adc3-4e76-9681-90d2c2945ca3",
   "metadata": {},
   "outputs": [],
   "source": [
    "x,y,shape = data_load()"
   ]
  },
  {
   "cell_type": "code",
   "execution_count": 5,
   "id": "91d55335-fba1-4216-8ebc-fdc69d696290",
   "metadata": {},
   "outputs": [
    {
     "name": "stdout",
     "output_type": "stream",
     "text": [
      "Number of unique alpha:  5\n",
      "Shape of x:  (70000, 128, 128, 1)\n",
      "Shape of y:  (70000,)\n"
     ]
    }
   ],
   "source": [
    "print(\"Number of unique alpha: \", len(np.unique(y)))\n",
    "print(\"Shape of x: \", np.shape(x))\n",
    "print(\"Shape of y: \", np.shape(y))"
   ]
  },
  {
   "cell_type": "markdown",
   "id": "9ff9b6e0-d1fd-46e1-8d54-9d515df7e583",
   "metadata": {},
   "source": [
    "We have 10000 * number of unique alpha snapshots total, we split them into a training set and a validation set:"
   ]
  },
  {
   "cell_type": "code",
   "execution_count": 6,
   "id": "89fa57c4-74a1-456a-ac08-8483a1cef51e",
   "metadata": {},
   "outputs": [
    {
     "name": "stdout",
     "output_type": "stream",
     "text": [
      "Size of training data:  50000\n",
      "Size of validation data:  20000\n"
     ]
    }
   ],
   "source": [
    "last = 20000\n",
    "x_train, y_train = x[:-last], y[:-last]\n",
    "x_val,y_val = x[-last:],y[-last:]\n",
    "\n",
    "print(\"Size of training data: \", len(x_train))\n",
    "print(\"Size of validation data: \", len(x_val))"
   ]
  },
  {
   "cell_type": "markdown",
   "id": "e75d3ac4-803c-4f44-8b7d-4858b3ad757c",
   "metadata": {},
   "source": [
    "# Setup and train our model"
   ]
  },
  {
   "cell_type": "code",
   "execution_count": 7,
   "id": "eaaf47e6-182a-4de7-b332-d593c80ac28c",
   "metadata": {},
   "outputs": [],
   "source": [
    "from tensorflow import keras\n",
    "from keras import backend as K\n",
    "from tensorflow.keras.models import Sequential\n",
    "from tensorflow.keras.layers import Dense,Conv2D,Flatten,Dropout,MaxPooling2D,BatchNormalization,AveragePooling2D,Normalization\n",
    "\n",
    "import contextlib\n",
    "\n",
    "@contextlib.contextmanager\n",
    "def options(options):\n",
    "  old_opts = tf.config.optimizer.get_experimental_options()\n",
    "  tf.config.optimizer.set_experimental_options(options)\n",
    "  try:\n",
    "    yield\n",
    "  finally:\n",
    "    tf.config.optimizer.set_experimental_options(old_opts)"
   ]
  },
  {
   "cell_type": "markdown",
   "id": "da356eaf-e208-4d88-894e-8718a84eaaa2",
   "metadata": {},
   "source": [
    "**Run this after analysis to reset model and release RAM before changing the architecture**"
   ]
  },
  {
   "cell_type": "code",
   "execution_count": null,
   "id": "dff9cfc9-cb6e-40d7-91fb-5a0457ef02a4",
   "metadata": {},
   "outputs": [],
   "source": [
    "import gc\n",
    "\n",
    "K.clear_session()\n",
    "del prediction\n",
    "del model\n",
    "del history\n",
    "\n",
    "print(\"Collected: \", gc.collect())"
   ]
  },
  {
   "cell_type": "markdown",
   "id": "6f055b9a-1e06-4038-8dbe-67df9e8eb953",
   "metadata": {},
   "source": [
    "## Setting up the model's architecture"
   ]
  },
  {
   "cell_type": "code",
   "execution_count": 8,
   "id": "1e36460a-880b-4f03-b7a3-c52d5d2c8126",
   "metadata": {},
   "outputs": [],
   "source": [
    "model = Sequential()\n",
    "\n",
    "model.add(Conv2D(filters=3, kernel_size=(3,3), padding='same', strides=(3,3), activation='relu', input_shape=shape))\n",
    "model.add(BatchNormalization())\n",
    "model.add(Conv2D(filters=3, kernel_size=(3,3), padding='same', input_shape=shape))\n",
    "model.add(BatchNormalization())\n",
    "\n",
    "model.add(MaxPooling2D(pool_size=(3, 3)))\n",
    "\n",
    "#model.add(AveragePooling2D(pool_size=(2,2), strides=(2,2)))\n",
    "\n",
    "model.add(Conv2D(filters=6, kernel_size=(3,3), padding='same'))\n",
    "model.add(BatchNormalization())\n",
    "\n",
    "model.add(Conv2D(filters=6, kernel_size=(3,3), padding='same'))\n",
    "model.add(BatchNormalization())\n",
    "\n",
    "model.add(MaxPooling2D(pool_size=(3, 3)))\n",
    "\n",
    "model.add(Dense(units=128, activation='relu'))\n",
    "\n",
    "with options({\"layout_optimizer\": False}):\n",
    "    model.add(Dropout(0.2))\n",
    "model.add(Dense(units=10, activation='softmax'))\n",
    "\n",
    "model.add(Flatten())\n",
    "model.add(Dense(units=1, activation='linear'))"
   ]
  },
  {
   "cell_type": "code",
   "execution_count": 9,
   "id": "d8ec6ec7-0da4-4c05-8382-6882dc117cb4",
   "metadata": {},
   "outputs": [
    {
     "name": "stdout",
     "output_type": "stream",
     "text": [
      "Model: \"sequential\"\n",
      "_________________________________________________________________\n",
      " Layer (type)                Output Shape              Param #   \n",
      "=================================================================\n",
      " conv2d (Conv2D)             (None, 43, 43, 3)         30        \n",
      "                                                                 \n",
      " batch_normalization (Batch  (None, 43, 43, 3)         12        \n",
      " Normalization)                                                  \n",
      "                                                                 \n",
      " conv2d_1 (Conv2D)           (None, 43, 43, 3)         84        \n",
      "                                                                 \n",
      " batch_normalization_1 (Bat  (None, 43, 43, 3)         12        \n",
      " chNormalization)                                                \n",
      "                                                                 \n",
      " max_pooling2d (MaxPooling2  (None, 14, 14, 3)         0         \n",
      " D)                                                              \n",
      "                                                                 \n",
      " conv2d_2 (Conv2D)           (None, 14, 14, 6)         168       \n",
      "                                                                 \n",
      " batch_normalization_2 (Bat  (None, 14, 14, 6)         24        \n",
      " chNormalization)                                                \n",
      "                                                                 \n",
      " conv2d_3 (Conv2D)           (None, 14, 14, 6)         330       \n",
      "                                                                 \n",
      " batch_normalization_3 (Bat  (None, 14, 14, 6)         24        \n",
      " chNormalization)                                                \n",
      "                                                                 \n",
      " max_pooling2d_1 (MaxPoolin  (None, 4, 4, 6)           0         \n",
      " g2D)                                                            \n",
      "                                                                 \n",
      " dense (Dense)               (None, 4, 4, 128)         896       \n",
      "                                                                 \n",
      " dropout (Dropout)           (None, 4, 4, 128)         0         \n",
      "                                                                 \n",
      " dense_1 (Dense)             (None, 4, 4, 10)          1290      \n",
      "                                                                 \n",
      " flatten (Flatten)           (None, 160)               0         \n",
      "                                                                 \n",
      " dense_2 (Dense)             (None, 1)                 161       \n",
      "                                                                 \n",
      "=================================================================\n",
      "Total params: 3031 (11.84 KB)\n",
      "Trainable params: 2995 (11.70 KB)\n",
      "Non-trainable params: 36 (144.00 Byte)\n",
      "_________________________________________________________________\n"
     ]
    }
   ],
   "source": [
    "model.summary()"
   ]
  },
  {
   "cell_type": "markdown",
   "id": "6a887d6d-220c-4610-bb47-d710d597d2f7",
   "metadata": {},
   "source": [
    "## Optimizer"
   ]
  },
  {
   "cell_type": "code",
   "execution_count": 10,
   "id": "aad2606d-0e93-4a2f-9847-a7f0f65dbea9",
   "metadata": {},
   "outputs": [],
   "source": [
    "optimizer = keras.optimizers.Adam(learning_rate=0.001)\n",
    "model.compile(loss='mean_absolute_error', optimizer=optimizer, metrics=['accuracy'])"
   ]
  },
  {
   "cell_type": "markdown",
   "id": "12eee402-b5c5-4ce4-a957-8ede097b3846",
   "metadata": {},
   "source": [
    "## Training and evaluation"
   ]
  },
  {
   "cell_type": "markdown",
   "id": "f84253de-f648-4980-b902-d85bcc5d720e",
   "metadata": {},
   "source": [
    "Before training, these are the \"predictions\":"
   ]
  },
  {
   "cell_type": "code",
   "execution_count": 11,
   "id": "73b8c676-25fe-41a7-af85-6d8230f38109",
   "metadata": {},
   "outputs": [
    {
     "name": "stderr",
     "output_type": "stream",
     "text": [
      "2024-02-14 14:12:29.587687: W tensorflow/tsl/framework/cpu_allocator_impl.cc:83] Allocation of 1310720000 exceeds 10% of free system memory.\n"
     ]
    },
    {
     "name": "stdout",
     "output_type": "stream",
     "text": [
      "313/313 [==============================] - 8s 25ms/step\n",
      "Shape of prediction :  (20000, 1)\n",
      "Pearson's correlation coeff:  -0.04497726280558032\n"
     ]
    },
    {
     "data": {
      "image/png": "[encoded data removed]",
      "text/plain": [
       "<Figure size 640x480 with 1 Axes>"
      ]
     },
     "metadata": {},
     "output_type": "display_data"
    }
   ],
   "source": [
    "prediction = model.predict(x_val, batch_size=64)\n",
    "print(\"Shape of prediction : \", np.shape(prediction))\n",
    "\n",
    "plt.plot(y_val, prediction.T[0], 'o', c='k', alpha=0.25)\n",
    "plt.plot(y_val, y_val, 'o', color='r')\n",
    "\n",
    "print(\"Pearson's correlation coeff: \", pearsonr(y_val, prediction.T[0]).statistic)\n",
    "plt.xlabel(\"Input turning rate\")\n",
    "plt.ylabel(\"Predicted turning rate\")\n",
    "plt.axis(\"equal\")\n",
    "plt.xscale(\"log\")\n",
    "plt.yscale(\"log\")"
   ]
  },
  {
   "cell_type": "code",
   "execution_count": 12,
   "id": "6fe3e90e-b853-4807-94cc-743f2dc8c411",
   "metadata": {},
   "outputs": [
    {
     "name": "stdout",
     "output_type": "stream",
     "text": [
      "Actual:  0.034\n",
      "Predicted:  0.07371252\n"
     ]
    },
    {
     "data": {
      "image/png": "[encoded data removed]",
      "text/plain": [
       "<Figure size 480x480 with 1 Axes>"
      ]
     },
     "metadata": {},
     "output_type": "display_data"
    }
   ],
   "source": [
    "demo_idx = 100\n",
    "plt.matshow(x_val[demo_idx])\n",
    "print(\"Actual: \", y_val[demo_idx])\n",
    "print(\"Predicted: \", prediction.T[0][demo_idx])"
   ]
  },
  {
   "cell_type": "markdown",
   "id": "675dc0a7-ab76-431e-9631-982f85ef0f35",
   "metadata": {},
   "source": [
    "We can play with the architecture and see how the untrained predictions can change too."
   ]
  },
  {
   "cell_type": "markdown",
   "id": "fc07d37c-1d22-464e-9070-31c63b84ed62",
   "metadata": {},
   "source": [
    "## Run the training"
   ]
  },
  {
   "cell_type": "code",
   "execution_count": 13,
   "id": "b726d25f-bdf0-486c-9c9b-63e2b2d8025d",
   "metadata": {},
   "outputs": [
    {
     "name": "stdout",
     "output_type": "stream",
     "text": [
      "Epoch 1/10\n"
     ]
    },
    {
     "name": "stderr",
     "output_type": "stream",
     "text": [
      "2024-02-14 14:13:58.918844: W tensorflow/tsl/framework/cpu_allocator_impl.cc:83] Allocation of 3276800000 exceeds 10% of free system memory.\n"
     ]
    },
    {
     "name": "stdout",
     "output_type": "stream",
     "text": [
      "781/782 [============================>.] - ETA: 0s - loss: 0.0456 - accuracy: 0.0000e+00"
     ]
    },
    {
     "name": "stderr",
     "output_type": "stream",
     "text": [
      "2024-02-14 14:14:55.119286: W tensorflow/tsl/framework/cpu_allocator_impl.cc:83] Allocation of 1310720000 exceeds 10% of free system memory.\n"
     ]
    },
    {
     "name": "stdout",
     "output_type": "stream",
     "text": [
      "782/782 [==============================] - 54s 66ms/step - loss: 0.0456 - accuracy: 0.0000e+00 - val_loss: 0.0635 - val_accuracy: 0.0000e+00\n",
      "Epoch 2/10\n",
      "782/782 [==============================] - 50s 64ms/step - loss: 0.0269 - accuracy: 0.0000e+00 - val_loss: 0.0202 - val_accuracy: 0.0000e+00\n",
      "Epoch 3/10\n",
      "782/782 [==============================] - 50s 64ms/step - loss: 0.0260 - accuracy: 0.0000e+00 - val_loss: 0.0207 - val_accuracy: 0.0000e+00\n",
      "Epoch 4/10\n",
      "782/782 [==============================] - 37s 48ms/step - loss: 0.0236 - accuracy: 0.0000e+00 - val_loss: 0.0161 - val_accuracy: 0.0000e+00\n",
      "Epoch 5/10\n",
      "782/782 [==============================] - 43s 55ms/step - loss: 0.0221 - accuracy: 0.0000e+00 - val_loss: 0.0196 - val_accuracy: 0.0000e+00\n",
      "Epoch 6/10\n",
      "782/782 [==============================] - 43s 55ms/step - loss: 0.0212 - accuracy: 0.0000e+00 - val_loss: 0.0200 - val_accuracy: 0.0000e+00\n",
      "Epoch 7/10\n",
      "782/782 [==============================] - 43s 55ms/step - loss: 0.0208 - accuracy: 0.0000e+00 - val_loss: 0.0152 - val_accuracy: 0.0000e+00\n",
      "Epoch 8/10\n",
      "782/782 [==============================] - 43s 55ms/step - loss: 0.0204 - accuracy: 0.0000e+00 - val_loss: 0.0197 - val_accuracy: 0.0000e+00\n",
      "Epoch 9/10\n",
      "782/782 [==============================] - 49s 63ms/step - loss: 0.0199 - accuracy: 0.0000e+00 - val_loss: 0.0145 - val_accuracy: 0.0000e+00\n",
      "Epoch 10/10\n",
      "782/782 [==============================] - 69s 88ms/step - loss: 0.0196 - accuracy: 0.0000e+00 - val_loss: 0.0177 - val_accuracy: 0.0000e+00\n"
     ]
    }
   ],
   "source": [
    "history = model.fit(\n",
    "    x_train,\n",
    "    y_train,\n",
    "    epochs=10,\n",
    "    verbose=True,\n",
    "    batch_size=64,\n",
    "    validation_data=(x_val, y_val)\n",
    ")"
   ]
  },
  {
   "cell_type": "code",
   "execution_count": 14,
   "id": "8e98cae5-874c-42f4-af67-e71f6a70efbf",
   "metadata": {},
   "outputs": [
    {
     "name": "stdout",
     "output_type": "stream",
     "text": [
      "Evaluate on test data:\n"
     ]
    },
    {
     "name": "stderr",
     "output_type": "stream",
     "text": [
      "2024-02-14 14:22:51.483660: W tensorflow/tsl/framework/cpu_allocator_impl.cc:83] Allocation of 1310720000 exceeds 10% of free system memory.\n"
     ]
    },
    {
     "name": "stdout",
     "output_type": "stream",
     "text": [
      "Test loss: 0.01768036000430584\n",
      "Test accuracy: 0.0\n"
     ]
    }
   ],
   "source": [
    "print(\"Evaluate on test data:\")\n",
    "results = model.evaluate(x_val, y_val, batch_size=64, verbose=0)\n",
    "print(\"Test loss:\", results[0])\n",
    "print(\"Test accuracy:\", results[1])"
   ]
  },
  {
   "cell_type": "markdown",
   "id": "6fb60c6f-b781-4461-a933-48af391a3f60",
   "metadata": {},
   "source": [
    "# Analyse training results"
   ]
  },
  {
   "cell_type": "code",
   "execution_count": 15,
   "id": "1b0d37e7-ffec-4607-b5a3-00d7bc9fa153",
   "metadata": {},
   "outputs": [
    {
     "name": "stderr",
     "output_type": "stream",
     "text": [
      "2024-02-14 14:23:08.376226: W tensorflow/tsl/framework/cpu_allocator_impl.cc:83] Allocation of 1310720000 exceeds 10% of free system memory.\n"
     ]
    },
    {
     "name": "stdout",
     "output_type": "stream",
     "text": [
      "313/313 [==============================] - 10s 32ms/step\n",
      "Shape of prediction :  (20000, 1)\n"
     ]
    }
   ],
   "source": [
    "prediction = model.predict(x_val, batch_size=64)\n",
    "print(\"Shape of prediction : \", np.shape(prediction))"
   ]
  },
  {
   "cell_type": "code",
   "execution_count": 16,
   "id": "1ada8256-93f4-4ca8-bb1f-44a06208f648",
   "metadata": {},
   "outputs": [
    {
     "name": "stdout",
     "output_type": "stream",
     "text": [
      "Pearson's correlation coeff:  0.9788006506188127\n"
     ]
    },
    {
     "data": {
      "image/png": "[encoded data removed]",
      "text/plain": [
       "<Figure size 640x480 with 1 Axes>"
      ]
     },
     "metadata": {},
     "output_type": "display_data"
    },
    {
     "name": "stdout",
     "output_type": "stream",
     "text": [
      "[0.016 0.034 0.073 0.157 0.34 ]\n"
     ]
    }
   ],
   "source": [
    "fig, ax = plt.subplots()\n",
    "\n",
    "ax.plot(y_val, prediction.T[0], 'o', c='k', alpha=0.25)\n",
    "ax.plot(y_val, y_val, 'o', color='r')\n",
    "\n",
    "print(\"Pearson's correlation coeff: \", pearsonr(y_val, prediction.T[0]).statistic)\n",
    "ax.set_xlabel(\"Input turning rate\")\n",
    "ax.set_ylabel(\"Predicted turning rate\")\n",
    "#ax.set_aspect(\"equal\")\n",
    "ax.set_xscale(\"log\")\n",
    "ax.set_yscale(\"log\")\n",
    "ax.get_xaxis().set_major_formatter(ticker.ScalarFormatter())\n",
    "ax.get_yaxis().set_major_formatter(ticker.ScalarFormatter())\n",
    "ax.set_xticks(np.unique(y))\n",
    "ax.set_yticks(np.unique(y))\n",
    "plt.show()\n",
    "print(np.unique(y))"
   ]
  },
  {
   "cell_type": "markdown",
   "id": "9185faa6-7522-4565-b5f2-cd1a3f34eea5",
   "metadata": {},
   "source": [
    "### Kernel analysis"
   ]
  },
  {
   "cell_type": "code",
   "execution_count": 17,
   "id": "2ddb5df8-70b1-4ac6-b73d-28fc3224ea4a",
   "metadata": {},
   "outputs": [
    {
     "name": "stdout",
     "output_type": "stream",
     "text": [
      "3\n"
     ]
    },
    {
     "data": {
      "image/png": "[encoded data removed]",
      "text/plain": [
       "<Figure size 480x480 with 2 Axes>"
      ]
     },
     "metadata": {},
     "output_type": "display_data"
    },
    {
     "data": {
      "image/png": "[encoded data removed]",
      "text/plain": [
       "<Figure size 480x480 with 2 Axes>"
      ]
     },
     "metadata": {},
     "output_type": "display_data"
    },
    {
     "data": {
      "image/png": "[encoded data removed]",
      "text/plain": [
       "<Figure size 480x480 with 2 Axes>"
      ]
     },
     "metadata": {},
     "output_type": "display_data"
    }
   ],
   "source": [
    "filters, biases = model.layers[0].get_weights()\n",
    "print (filters.shape[-1])\n",
    "for k in range(filters.shape[-1]):\n",
    "  f = filters[:, :, :, k]\n",
    "  plt.matshow(f.squeeze())\n",
    "  plt.colorbar()"
   ]
  },
  {
   "cell_type": "markdown",
   "id": "f6ebf16f-cd22-468c-8729-753aceda2ef0",
   "metadata": {},
   "source": [
    "# Save model (if needed)"
   ]
  },
  {
   "cell_type": "code",
   "execution_count": null,
   "id": "f2ae8f79-1d5b-4b93-96ea-c86210a6e9b8",
   "metadata": {},
   "outputs": [],
   "source": [
    "model.save(\"../models/cp_14feb_prelim.keras\")"
   ]
  },
  {
   "cell_type": "code",
   "execution_count": null,
   "id": "1bb33e40-dbc8-4f17-9d99-edee2970978f",
   "metadata": {},
   "outputs": [],
   "source": []
  }
 ],
 "metadata": {
  "kernelspec": {
   "display_name": "Python 3 (ipykernel)",
   "language": "python",
   "name": "python3"
  },
  "language_info": {
   "codemirror_mode": {
    "name": "ipython",
    "version": 3
   },
   "file_extension": ".py",
   "mimetype": "text/x-python",
   "name": "python",
   "nbconvert_exporter": "python",
   "pygments_lexer": "ipython3",
   "version": "3.11.5"
  }
 },
 "nbformat": 4,
 "nbformat_minor": 5
}
