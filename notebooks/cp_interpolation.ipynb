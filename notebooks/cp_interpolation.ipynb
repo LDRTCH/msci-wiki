{
 "cells": [
  {
   "cell_type": "markdown",
   "id": "14ec1392-cf44-405b-a9d0-64556b795072",
   "metadata": {},
   "source": [
    "#  Import packages"
   ]
  },
  {
   "cell_type": "code",
   "execution_count": null,
   "id": "80b1ed2f-e9e7-4839-b7d8-8e08a0d7b8e7",
   "metadata": {},
   "outputs": [],
   "source": [
    "import numpy as np\n",
    "import h5py\n",
    "import glob\n",
    "import re\n",
    "import tensorflow as tf\n",
    "\n",
    "import matplotlib.pyplot as plt\n",
    "import matplotlib.ticker as ticker\n",
    "from scipy.stats import pearsonr\n",
    "\n",
    "import sys\n",
    "sys.path.append('./..')\n",
    "from src.training_utils import data_load, extract_floats, split_dataset, predict_multi_by_name, plot_violin_and_statistics,cross_mean_err_calculator\n",
    "\n",
    "from tensorflow import keras\n",
    "from keras import backend as K\n",
    "from tensorflow.keras.models import Sequential\n",
    "from tensorflow.keras.layers import Dense,Conv2D,Flatten,Dropout,MaxPooling2D,BatchNormalization,AveragePooling2D,LeakyReLU,GlobalAveragePooling2D,ReLU\n",
    "\n",
    "from cmcrameri import cm\n",
    "import seaborn as sns\n",
    "import pandas as pd\n",
    "\n",
    "np.set_printoptions(precision=3, suppress=True)"
   ]
  },
  {
   "cell_type": "markdown",
   "id": "fba3907c",
   "metadata": {},
   "source": [
    "# Set seed (optional)"
   ]
  },
  {
   "cell_type": "code",
   "execution_count": null,
   "id": "2036f19a",
   "metadata": {},
   "outputs": [],
   "source": [
    "fixed_seed = 216 #choose seed (comment out if not needed)\n",
    "\n",
    "if 'fixed_seed' in locals():\n",
    "    keras.utils.set_random_seed(fixed_seed)\n",
    "    print(\"Running program with fixed seed:\",fixed_seed)\n",
    "else:\n",
    "    print(\"Running program with random seed.\")\n"
   ]
  },
  {
   "cell_type": "markdown",
   "id": "2c7ca5fc-7b31-470a-acf6-29ec5544b11e",
   "metadata": {},
   "source": [
    "# Setup GPU"
   ]
  },
  {
   "cell_type": "markdown",
   "id": "1301b5bc-54be-4358-bb86-6d9f8671e7fd",
   "metadata": {},
   "source": [
    "First, follow instructions [here](https://gist.github.com/zrruziev/b93e1292bf2ee39284f834ec7397ee9f), or alternatively run:\n",
    "```bash\n",
    "for a in /sys/bus/pci/devices/*; do echo 0 | sudo tee -a $a/numa_node; done\n",
    "```\n",
    "We do this as a workaround for [this error](https://github.com/tensorflow/tensorflow/issues/42738):"
   ]
  },
  {
   "cell_type": "code",
   "execution_count": null,
   "id": "c4254e19-b9cb-4555-af86-4f539bff196d",
   "metadata": {},
   "outputs": [],
   "source": [
    "gpu_devices = tf.config.experimental.list_physical_devices('GPU')\n",
    "for device in gpu_devices:\n",
    "    tf.config.experimental.set_memory_growth(device, True)\n",
    "print(tf.config.list_physical_devices('GPU'), tf.test.gpu_device_name())\n",
    "print(\"TF Version:\",tf.__version__)"
   ]
  },
  {
   "cell_type": "markdown",
   "id": "050f798d",
   "metadata": {},
   "source": [
    "# Define Functions"
   ]
  },
  {
   "cell_type": "code",
   "execution_count": null,
   "id": "82c398bf",
   "metadata": {},
   "outputs": [],
   "source": [
    "def violin_plotter (v,y_val,adjustment,legloc=\"upper left\"):\n",
    "    bins = np.logspace(-6,-1,10, base=2)*0.85\n",
    "\n",
    "    #v = prediction2.T[0]\n",
    "\n",
    "    colors = cm.batlowS(np.digitize(v, bins))\n",
    "    colors_actual = cm.batlowS(np.digitize(np.unique(y_val),bins))\n",
    "\n",
    "    fig, (ax1,ax2) = plt.subplots(nrows=2,ncols=1,figsize=(9,6),dpi=600)\n",
    "\n",
    "    df = pd.DataFrame()\n",
    "    df.insert(0, \"predicted\", v - y_val)\n",
    "    df.insert(1, \"actual\", y_val)\n",
    "\n",
    "    sns.violinplot(\n",
    "        ax=ax1,\n",
    "        data=df,\n",
    "        x=\"actual\",\n",
    "        y=\"predicted\",\n",
    "        color=\"w\",\n",
    "        alpha=0.7,\n",
    "        density_norm=\"width\",\n",
    "        linewidth=1,\n",
    "        inner=\"box\",\n",
    "        inner_kws={\"box_width\": 4, \"color\": \"0.2\"},\n",
    "        )\n",
    "\n",
    "    ax1.set_xlabel(\"Actual turning rate\")\n",
    "    ax1.set_ylabel(r\"Prediction Difference $P_{pred}-P_{true}$\")\n",
    "\n",
    "    std = []\n",
    "    means = []\n",
    "    overlap = []\n",
    "    std_div = []\n",
    "    accuracy = 5e-3\n",
    "    print (\"Prediction means and standard deviations.\")\n",
    "    for val in np.unique(y_val):\n",
    "        v_mapped = v[np.where(y_val == val)]\n",
    "        stdev = np.std(v_mapped)\n",
    "        std.append(stdev)\n",
    "        mean = np.mean(v_mapped)\n",
    "        overlap.append((val + accuracy >= np.min(v_mapped)) & (val - accuracy <= np.max(v_mapped)))\n",
    "        within_std = abs(val-mean)/stdev\n",
    "        print (f\"Actual value {val}: Average = {mean:.5f} +- {stdev:.5f}; Expected value within {within_std:.3f} stdevs of mean\")\n",
    "        std_div.append(within_std)\n",
    "\n",
    "    print(f\"With accuracy {accuracy}, overlap ratio:\", np.sum(overlap)/len(overlap))\n",
    "    print(\"(Min, Max, Avg) STD:\", np.min(std), np.max(std), np.mean(std))\n",
    "    print(\"Pearson's correlation coeff: \", pearsonr(y_val, v).statistic)\n",
    "\n",
    "\n",
    "\n",
    "    for val in np.unique(y_val):\n",
    "        v_mapped = v[np.where(y_val == val)]\n",
    "        means.append(np.mean(v_mapped))\n",
    "\n",
    "    ax2.errorbar(np.sort(np.unique(y_val)),np.abs(means-np.sort(np.unique(y_val))),yerr=(std),ecolor='black',elinewidth=0.5,capsize=3,color='purple',label=r'$|\\langle P_{pred} \\rangle -P_{true}|$')\n",
    "    ax2.plot(np.sort(np.unique(y_val)),np.zeros(np.unique(y_val).shape[0]),color='red',label='True value line',linestyle='dotted',alpha=0.5)\n",
    "\n",
    "\n",
    "    ax2.legend(loc=legloc)\n",
    "\n",
    "    counter = 0\n",
    "    for i in np.sort(np.unique(y_val)):\n",
    "        ax2.text(i,adjustment,f\"${std_div[counter]:.3f} \\sigma$\",ha=\"center\")\n",
    "        counter = counter + 1\n",
    "\n",
    "    ax2.set_xscale(\"log\")\n",
    "    ax2.get_xaxis().set_major_formatter(ticker.ScalarFormatter())\n",
    "    ax2.set_xticks(np.unique(y_val))\n",
    "\n",
    "    ax2.set_xlabel(\"Actual turning rate\")\n",
    "    ax2.set_ylabel(\"Absolute mean prediction difference\")\n",
    "\n",
    "    fig.tight_layout()"
   ]
  },
  {
   "cell_type": "markdown",
   "id": "bcab94fe-9123-4020-9df7-2e426a6749a3",
   "metadata": {},
   "source": [
    "# Import and prepare data"
   ]
  },
  {
   "cell_type": "markdown",
   "id": "62c8fd6b",
   "metadata": {},
   "source": [
    "set model1 to have orientation, model2 to be monochrome, model3 to be scrambled"
   ]
  },
  {
   "cell_type": "code",
   "execution_count": null,
   "id": "19a56273-adc3-4e76-9681-90d2c2945ca3",
   "metadata": {},
   "outputs": [],
   "source": [
    "#all alphas: [0.016,0.023,0.034,0.050,0.073,0.107,0.157,0.231,0.340,0.500]\n",
    "#NOTE: we're using interpolation alphas below, so the loaded alphas should be the midpoints of the above!\n",
    "#all densities: [0.05,0.10,0.15,0.20,0.25,0.30,0.35,0.40,0.45,0.50,0.55,0.60,0.65,0.70,0.75,0.80,0.85,0.90,0.95]\n",
    "#MIDWAY INTERPOLATION alphas=[0.019,0.028,0.042,0.061,0.090,0.132,0.194,0.286,0.420]\n",
    "#MORE ARBITRARY INTERPOLATION alphas = [0.017,0.019,0.020,0.022,0.024,0.027,0.029,0.032,0.035,0.038,0.042,0.045,0.054,0.059,0.065,0.071,0.077,0.085,0.092,0.101,0.110,0.121,0.132,0.144,0.172,0.188,0.206,0.225,0.246,0.268,0.293,0.321,0.350,0.383,0.419,0.457]\n",
    "x1,y1,shape1 = data_load(alphas = [0.017,0.019,0.020,0.022,0.024,0.027,0.029,0.032,0.035,0.038,0.042,0.045,0.054,0.059,0.065,0.071,0.077,0.085,0.092,0.101,0.110,0.121,0.132,0.144,0.172,0.188,0.206,0.225,0.246,0.268,0.293,0.321,0.350,0.383,0.419,0.457], densities=[0.25],orientation=True,scrambled=False,path=f\"../data/no-rolling/interpolation-set/\")\n",
    "x2,y2,shape2 = data_load(alphas = [0.017,0.019,0.020,0.022,0.024,0.027,0.029,0.032,0.035,0.038,0.042,0.045,0.054,0.059,0.065,0.071,0.077,0.085,0.092,0.101,0.110,0.121,0.132,0.144,0.172,0.188,0.206,0.225,0.246,0.268,0.293,0.321,0.350,0.383,0.419,0.457], densities=[0.25],orientation=False,scrambled=False,path=f\"../data/no-rolling/interpolation-set/\")\n",
    "x3,y3,shape3 = data_load(alphas = [0.017,0.019,0.020,0.022,0.024,0.027,0.029,0.032,0.035,0.038,0.042,0.045,0.054,0.059,0.065,0.071,0.077,0.085,0.092,0.101,0.110,0.121,0.132,0.144,0.172,0.188,0.206,0.225,0.246,0.268,0.293,0.321,0.350,0.383,0.419,0.457], densities=[0.25],orientation=False,scrambled=True,path=f\"../data/no-rolling/interpolation-set/\")"
   ]
  },
  {
   "cell_type": "markdown",
   "id": "9ff9b6e0-d1fd-46e1-8d54-9d515df7e583",
   "metadata": {},
   "source": [
    "We have N * number of unique alpha snapshots total, we split them into training set and a validation set with the ratio 80/20:"
   ]
  },
  {
   "cell_type": "code",
   "execution_count": null,
   "id": "89fa57c4-74a1-456a-ac08-8483a1cef51e",
   "metadata": {},
   "outputs": [],
   "source": [
    "print(\"Orientation model:\")\n",
    "x_train1, y_train1, x_val1, y_val1 = split_dataset(x1,y1,last=int(len(x1)*1)) #len(x)*1 means no training, only validation!\n",
    "x_train2, y_train2, x_val2, y_val2 = split_dataset(x2,y2,last=int(len(x1)*1)) #len(x)*1 means no training, only validation!\n",
    "x_train3, y_train3, x_val3, y_val3 = split_dataset(x3,y3,last=int(len(x1)*1)) #len(x)*1 means no training, only validation!\n",
    "\n"
   ]
  },
  {
   "cell_type": "code",
   "execution_count": null,
   "id": "0775f3ca-53b6-4f50-8f1f-48de61e4fbbc",
   "metadata": {},
   "outputs": [],
   "source": [
    "fig, (ax1,ax2,ax3) = plt.subplots(nrows=1,ncols=3)\n",
    "ax1.matshow(x_val1[500],cmap=plt.get_cmap(name=\"gnuplot\",lut=5))\n",
    "ax2.matshow(x_val2[500],cmap=plt.get_cmap(name=\"gnuplot\",lut=5))\n",
    "ax3.matshow(x_val3[500],cmap=plt.get_cmap(name=\"gnuplot\",lut=5))"
   ]
  },
  {
   "cell_type": "markdown",
   "id": "6fb60c6f-b781-4461-a933-48af391a3f60",
   "metadata": {},
   "source": [
    "# Predict multiple models"
   ]
  },
  {
   "cell_type": "code",
   "execution_count": null,
   "id": "1b0d37e7-ffec-4607-b5a3-00d7bc9fa153",
   "metadata": {},
   "outputs": [],
   "source": [
    "models_one = ['orientation0216','orientation0226','orientation0236','orientation0246','orientation0256','orientation0266','orientation0276','orientation0286','orientation0296','orientation0306'] #array of model names\n",
    "models_two = ['monochrome0216','monochrome0226','monochrome0236','monochrome0246','monochrome0256','monochrome0266','monochrome0276','monochrome0286','monochrome0296','monochrome0306'] # array of model names\n",
    "models_three = ['scrambled0216','scrambled0226','scrambled0236','scrambled0246','scrambled0256','scrambled0266','scrambled0276','scrambled0286','scrambled0296','scrambled0306'] # array of model names\n",
    "\n",
    "one_pred_of_one, one_actuals_of_one = predict_multi_by_name(models_one,x_val1,y_val1)\n",
    "one_pred_of_two, one_actuals_of_two = predict_multi_by_name(models_one,x_val2,y_val2)\n",
    "one_pred_of_three, one_actuals_of_three = predict_multi_by_name(models_one,x_val3,y_val3)\n",
    "\n",
    "two_pred_of_two, two_actuals_of_two = predict_multi_by_name(models_two,x_val2,y_val2)\n",
    "two_pred_of_one, two_actuals_of_one = predict_multi_by_name(models_two,x_val1,y_val1)\n",
    "two_pred_of_three, two_actuals_of_three = predict_multi_by_name(models_two,x_val3,y_val3)\n",
    "\n",
    "three_pred_of_three, three_actuals_of_three = predict_multi_by_name(models_three,x_val3,y_val3)\n",
    "three_pred_of_one, three_actuals_of_one = predict_multi_by_name(models_three,x_val1,y_val1)\n",
    "three_pred_of_two, three_actuals_of_two = predict_multi_by_name(models_three,x_val2,y_val2)"
   ]
  },
  {
   "cell_type": "markdown",
   "id": "06ec4dd5",
   "metadata": {},
   "source": [
    "# Plot one results"
   ]
  },
  {
   "cell_type": "markdown",
   "id": "d700589b",
   "metadata": {},
   "source": [
    "## Predict one on one"
   ]
  },
  {
   "cell_type": "code",
   "execution_count": null,
   "id": "1ada8256-93f4-4ca8-bb1f-44a06208f648",
   "metadata": {},
   "outputs": [],
   "source": [
    "violin_plotter(one_pred_of_one,one_actuals_of_one,-0.001)"
   ]
  },
  {
   "cell_type": "markdown",
   "id": "b1c96059",
   "metadata": {},
   "source": [
    "## Predict one on two"
   ]
  },
  {
   "cell_type": "code",
   "execution_count": null,
   "id": "088184d7",
   "metadata": {},
   "outputs": [],
   "source": [
    "violin_plotter(one_pred_of_two,one_actuals_of_two,0.04,'lower left')"
   ]
  },
  {
   "cell_type": "markdown",
   "id": "5c114521",
   "metadata": {},
   "source": [
    "## Predict one on three"
   ]
  },
  {
   "cell_type": "code",
   "execution_count": null,
   "id": "97fae202",
   "metadata": {},
   "outputs": [],
   "source": [
    "violin_plotter(one_pred_of_three,one_actuals_of_three,0.04,'lower left')"
   ]
  },
  {
   "cell_type": "markdown",
   "id": "04843a6f",
   "metadata": {},
   "source": [
    "# Plot monochrome results"
   ]
  },
  {
   "cell_type": "markdown",
   "id": "62d4e15d",
   "metadata": {},
   "source": [
    "## Predict two on two"
   ]
  },
  {
   "cell_type": "code",
   "execution_count": null,
   "id": "7edd1cb8",
   "metadata": {},
   "outputs": [],
   "source": [
    "violin_plotter(two_pred_of_two,two_actuals_of_two,-0.002)"
   ]
  },
  {
   "cell_type": "markdown",
   "id": "d4086994",
   "metadata": {},
   "source": [
    "## Predict two on one"
   ]
  },
  {
   "cell_type": "code",
   "execution_count": null,
   "id": "1274e382",
   "metadata": {},
   "outputs": [],
   "source": [
    "violin_plotter(two_pred_of_one,two_actuals_of_one,0.07,'lower left')"
   ]
  },
  {
   "cell_type": "markdown",
   "id": "8acb9ebb",
   "metadata": {},
   "source": [
    "## Predict two on three"
   ]
  },
  {
   "cell_type": "code",
   "execution_count": null,
   "id": "b74233a3",
   "metadata": {},
   "outputs": [],
   "source": [
    "violin_plotter(two_pred_of_three,two_actuals_of_three,0.07,'lower left')"
   ]
  },
  {
   "cell_type": "markdown",
   "id": "40d01dbb",
   "metadata": {},
   "source": [
    "# Plot Scrambled Results"
   ]
  },
  {
   "cell_type": "markdown",
   "id": "bf925fb4",
   "metadata": {},
   "source": [
    "## Predict three on three"
   ]
  },
  {
   "cell_type": "code",
   "execution_count": null,
   "id": "9ae33fff",
   "metadata": {},
   "outputs": [],
   "source": [
    "violin_plotter(three_pred_of_three,three_actuals_of_three,0.07,'lower left')"
   ]
  },
  {
   "cell_type": "markdown",
   "id": "9ad07259",
   "metadata": {},
   "source": [
    "## Predict three on one"
   ]
  },
  {
   "cell_type": "code",
   "execution_count": null,
   "id": "83ac4a72",
   "metadata": {},
   "outputs": [],
   "source": [
    "violin_plotter(three_pred_of_one,three_actuals_of_one,0.07,'lower left')"
   ]
  },
  {
   "cell_type": "markdown",
   "id": "b10029af",
   "metadata": {},
   "source": [
    "## Predict three on two"
   ]
  },
  {
   "cell_type": "code",
   "execution_count": null,
   "id": "bde1e2a4",
   "metadata": {},
   "outputs": [],
   "source": [
    "violin_plotter(three_pred_of_two,three_actuals_of_two,0.07,'lower left')"
   ]
  },
  {
   "cell_type": "markdown",
   "id": "b5584b81",
   "metadata": {},
   "source": [
    "## Combined plots"
   ]
  },
  {
   "cell_type": "code",
   "execution_count": null,
   "id": "434d8982",
   "metadata": {},
   "outputs": [],
   "source": [
    "#predictions on own kind\n",
    "#means1,std1,means2,std2,means3,std3=cross_mean_err_calculator(one_pred_of_one,one_actuals_of_one,two_pred_of_two,two_actuals_of_two,three_pred_of_three,three_actuals_of_three,three_cases=True)\n",
    "\n",
    "fig, (ax1,ax2) = plt.subplots(nrows=1,ncols=2,figsize=(16,6),dpi=600)\n",
    "\n",
    "#NOTE: I've commented out the previous method of plotting due to its inelegance, but I have kept it for posterity as a way of plotting error bands without seaborn.\n",
    "\n",
    "#ONE ON ONE\n",
    "#ax1.errorbar(np.sort(np.unique(orientation_actuals_of_orientation)),np.abs(means1-np.sort(np.unique(orientation_actuals_of_orientation))),yerr=(std1),ecolor='blue',elinewidth=0.5,capsize=3,color='blue',label=\"Trained Orientation Predicting Orientation\")\n",
    "#ax1.plot(np.sort(np.unique(one_actuals_of_one)),np.abs(means1-np.sort(np.unique(one_actuals_of_one))),'b-',label=\"Trained Orientation Predicting Orientation\")\n",
    "#ax1.fill_between(np.sort(np.unique(one_actuals_of_one)),np.abs(means1-np.sort(np.unique(one_actuals_of_one)))-std1,np.abs(means1-np.sort(np.unique(one_actuals_of_one)))+std1,color='b',alpha=0.25)\n",
    "\n",
    "#TWO ON TWO\n",
    "#ax1.errorbar(np.sort(np.unique(monochrome_actuals_of_monochrome)),np.abs(means2-np.sort(np.unique(monochrome_actuals_of_monochrome))),yerr=(std2),ecolor='red',elinewidth=0.5,capsize=3,color='red',label=\"Trained Monochrome Predicting Monochrome\")\n",
    "#ax1.plot(np.sort(np.unique(two_actuals_of_two)),np.abs(means2-np.sort(np.unique(two_actuals_of_two))),'r-',label=\"Trained Monochrome Predicting Monochrome\")\n",
    "#ax1.fill_between(np.sort(np.unique(two_actuals_of_two)),np.abs(means2-np.sort(np.unique(two_actuals_of_two)))-std2,np.abs(means2-np.sort(np.unique(two_actuals_of_two)))+std2,color='r',alpha=0.25)\n",
    "\n",
    "#THREE ON THREE\n",
    "#ax1.plot(np.sort(np.unique(three_actuals_of_three)),np.abs(means3-np.sort(np.unique(three_actuals_of_three))),'g-',label=\"Trained Scrambled Predicting Scrambled\")\n",
    "#ax1.fill_between(np.sort(np.unique(three_actuals_of_three)),np.abs(means3-np.sort(np.unique(three_actuals_of_three)))-std3,np.abs(means3-np.sort(np.unique(three_actuals_of_three)))+std3,color='g',alpha=0.25)\n",
    "\n",
    "#ZERO LINE, LEGEND, AX1 PLOT CONFIG\n",
    "#ax1.plot(np.sort(np.unique(one_actuals_of_one)),np.zeros(np.unique(one_actuals_of_one).shape[0]),color='black',label='True value line',linestyle='dotted',alpha=0.5)\n",
    "#ax1.legend(loc='upper left')\n",
    "#ax1.set_xscale(\"log\")\n",
    "#ax1.get_xaxis().set_major_formatter(ticker.ScalarFormatter())\n",
    "#ax1.set_xticks(np.unique(y_val1))\n",
    "#ax1.set_xlabel(\"Actual turning rate\")\n",
    "#ax1.set_ylabel(\"Absolute mean prediction difference\")\n",
    "\n",
    "df_one = pd.DataFrame()\n",
    "df_two = pd.DataFrame()\n",
    "df_three = pd.DataFrame()\n",
    "df_one.insert(0,\"predicted\",np.abs(one_pred_of_one-one_actuals_of_one))\n",
    "df_one.insert(1,\"actuals\",one_actuals_of_one)\n",
    "df_two.insert(0,\"predicted\",np.abs(two_pred_of_two-two_actuals_of_two))\n",
    "df_two.insert(1,\"actuals\",np.abs(two_actuals_of_two))\n",
    "df_three.insert(0,\"predicted\",np.abs(three_pred_of_three-three_actuals_of_three))\n",
    "df_three.insert(1,\"actuals\",np.abs(three_actuals_of_three))\n",
    "df_one['Data Type']='Orientation'\n",
    "df_two['Data Type']='Monochrome'\n",
    "df_three['Data Type']='Scrambled'\n",
    "cdf = pd.concat([df_one,df_two,df_three])\n",
    "#print(cdf.head())\n",
    "\n",
    "sns.lineplot(ax=ax1,\n",
    "             x=\"actuals\",\n",
    "             y=\"predicted\",\n",
    "             hue=\"Data Type\",\n",
    "             data=cdf,\n",
    "             errorbar=\"sd\",\n",
    "             palette={\"Orientation\": \"blue\", \"Monochrome\": \"red\", \"Scrambled\": \"green\"})\n",
    "\n",
    "sns.boxplot(ax=ax2,\n",
    "            data=cdf,\n",
    "            x=\"actuals\",\n",
    "            y=\"predicted\",\n",
    "            hue=\"Data Type\",\n",
    "            fill=False,\n",
    "            gap=.4,\n",
    "            whis=(0,100),\n",
    "            width=.5,\n",
    "            palette={\"Orientation\": \"blue\", \"Monochrome\": \"red\", \"Scrambled\": \"green\"})\n",
    "\n",
    "ax1.set_xlabel(\"Actual turning rate\")\n",
    "ax2.set_xlabel(\"Actual turning rate\")\n",
    "ax1.set_ylabel(\"Absolute mean prediction difference\")\n",
    "ax2.set_ylabel(\"Absolute mean prediction difference\")\n",
    "ax2.set_title(\"Interquartile Range Comparison of Self-Interpolation\")\n",
    "ax1.set_title(\"Standard Deviation Comparison of Self-Interpolation\")\n",
    "\n",
    "ax1.set_xscale(\"log\")\n",
    "ax1.get_xaxis().set_major_formatter(ticker.ScalarFormatter())\n",
    "ax1.set_xticks(np.unique(y_val1))\n",
    "ax1.set_ylim([0,0.12])\n",
    "ax2.set_ylim([0,0.25])\n",
    "\n",
    "#handles,labels=ax2.get_legend_handles_labels()\n",
    "#ax2.legend(handles=handles[1:],labels=labels[1:]) #this should fix hue title appearing in rightmost figure legend\n",
    "ax1.legend(loc=\"upper left\")\n",
    "\n",
    "\n",
    "#predictions on other kind\n",
    "#means1,std1,means2,std2,means3,std3=cross_mean_err_calculator(one_pred_of_two,one_actuals_of_two,two_pred_of_one,two_actuals_of_one,three_cases=False)\n",
    "\n",
    "#ONE ON TWO\n",
    "#ax2.errorbar(np.sort(np.unique(orientation_actuals_of_monochrome)),np.abs(means1-np.sort(np.unique(orientation_actuals_of_monochrome))),yerr=(std1),ecolor='blue',elinewidth=0.5,capsize=3,color='blue',label=\"Trained Orientation Predicting Monochrome\")\n",
    "#ax2.plot(np.sort(np.unique(one_actuals_of_two)),np.abs(means1-np.sort(np.unique(one_actuals_of_two))),'b-',label=\"Trained Orientation Predicting Monochrome\")\n",
    "#ax2.fill_between(np.sort(np.unique(one_actuals_of_two)),np.abs(means1-np.sort(np.unique(one_actuals_of_two)))-std1,np.abs(means1-np.sort(np.unique(one_actuals_of_two)))+std1,color='b',alpha=0.25)\n",
    "\n",
    "#TWO ON ONE\n",
    "#ax2.errorbar(np.sort(np.unique(monochrome_actuals_of_orientation)),np.abs(means2-np.sort(np.unique(monochrome_actuals_of_orientation))),yerr=(std2),ecolor='red',elinewidth=0.5,capsize=3,color='red',label=\"Trained Monochrome Predicting Orientation\")\n",
    "#ax2.plot(np.sort(np.unique(two_actuals_of_one)),np.abs(means2-np.sort(np.unique(two_actuals_of_one))),'r-',label=\"Trained Monochrome Predicting Orientation\")\n",
    "#ax2.fill_between(np.sort(np.unique(two_actuals_of_one)),np.abs(means2-np.sort(np.unique(two_actuals_of_one)))-std2,np.abs(means2-np.sort(np.unique(two_actuals_of_one)))+std2,color='r',alpha=0.25)\n",
    "\n",
    "#ZERO LINE, LEGEND, AX2 PLOT CONFIG\n",
    "#ax2.plot(np.sort(np.unique(one_actuals_of_two)),np.zeros(np.unique(one_actuals_of_two).shape[0]),color='black',label='True value line',linestyle='dotted',alpha=0.5)\n",
    "#ax2.legend(loc='upper left')\n",
    "#ax2.set_xscale(\"log\")\n",
    "#ax2.get_xaxis().set_major_formatter(ticker.ScalarFormatter())\n",
    "#ax2.set_xticks(np.unique(y_val1))\n",
    "#ax2.set_xlabel(\"Actual turning rate\")\n",
    "#ax2.set_ylabel(\"Absolute mean prediction difference\")\n",
    "\n",
    "fig.tight_layout()"
   ]
  },
  {
   "cell_type": "code",
   "execution_count": null,
   "id": "e0da6a48",
   "metadata": {},
   "outputs": [],
   "source": [
    "df12=pd.DataFrame()\n",
    "df21=pd.DataFrame()\n",
    "df13=pd.DataFrame()\n",
    "df31=pd.DataFrame()\n",
    "df23=pd.DataFrame()\n",
    "df32=pd.DataFrame()\n",
    "df12.insert(0,\"predicted\",np.abs(one_pred_of_two-one_actuals_of_two))\n",
    "df12.insert(1,\"actuals\",one_actuals_of_two)\n",
    "df21.insert(0,\"predicted\",np.abs(two_pred_of_one-two_actuals_of_one))\n",
    "df21.insert(1,\"actuals\",two_actuals_of_one)\n",
    "df13.insert(0,\"predicted\",np.abs(one_pred_of_three-one_actuals_of_three))\n",
    "df13.insert(1,\"actuals\",one_actuals_of_three)\n",
    "df31.insert(0,\"predicted\",np.abs(three_pred_of_one-three_actuals_of_one))\n",
    "df31.insert(1,\"actuals\",three_actuals_of_one)\n",
    "df23.insert(0,\"predicted\",np.abs(two_pred_of_three-two_actuals_of_three))\n",
    "df23.insert(1,\"actuals\",two_actuals_of_three)\n",
    "df32.insert(0,\"predicted\",np.abs(three_pred_of_two-three_actuals_of_two))\n",
    "df32.insert(1,\"actuals\",three_actuals_of_two)\n",
    "\n",
    "fig,ax = plt.subplots(nrows=3,ncols=2,figsize=(12,16),dpi=600)\n",
    "\n",
    "#PREDICTING ONE\n",
    "\n",
    "df21['Data Type']='Monochrome'\n",
    "df31['Data Type']='Scrambled'\n",
    "cdf = pd.concat([df_one,df21,df31])\n",
    "\n",
    "sns.lineplot(ax=ax[0][0],\n",
    "             x=\"actuals\",\n",
    "             y=\"predicted\",\n",
    "             hue=\"Data Type\",\n",
    "             data=cdf,\n",
    "             errorbar=\"sd\",\n",
    "             palette={\"Orientation\": \"blue\", \"Monochrome\": \"red\", \"Scrambled\": \"green\"})\n",
    "\n",
    "sns.boxplot(ax=ax[0][1],\n",
    "            data=cdf,\n",
    "            x=\"actuals\",\n",
    "            y=\"predicted\",\n",
    "            hue=\"Data Type\",\n",
    "            fill=False,\n",
    "            gap=.4,\n",
    "            whis=(0,100),\n",
    "            width=.5,\n",
    "            palette={\"Orientation\": \"blue\", \"Monochrome\": \"red\", \"Scrambled\": \"green\"})\n",
    "\n",
    "\n",
    "\n",
    "#PREDICTING TWO\n",
    "\n",
    "df12['Data Type']='Orientation'\n",
    "df32['Data Type']='Scrambled'\n",
    "cdf = pd.concat([df12,df_two,df32])\n",
    "\n",
    "sns.lineplot(ax=ax[1][0],\n",
    "             x=\"actuals\",\n",
    "             y=\"predicted\",\n",
    "             hue=\"Data Type\",\n",
    "             data=cdf,\n",
    "             errorbar=\"sd\",\n",
    "             palette={\"Orientation\": \"blue\", \"Monochrome\": \"red\", \"Scrambled\": \"green\"})\n",
    "\n",
    "ax[0][0].legend(loc='upper left')\n",
    "ax[0][1].legend(loc='upper right')\n",
    "\n",
    "sns.boxplot(ax=ax[1][1],\n",
    "            data=cdf,\n",
    "            x=\"actuals\",\n",
    "            y=\"predicted\",\n",
    "            hue=\"Data Type\",\n",
    "            fill=False,\n",
    "            gap=.4,\n",
    "            whis=(0,100),\n",
    "            width=.5,\n",
    "            palette={\"Orientation\": \"blue\", \"Monochrome\": \"red\", \"Scrambled\": \"green\"})\n",
    "\n",
    "ax[1][0].legend(loc='upper left')\n",
    "ax[1][1].legend(loc='upper left')\n",
    "\n",
    "#PREDICTING THREE\n",
    "\n",
    "df13['Data Type']='Orientation'\n",
    "df23['Data Type']='Monochrome'\n",
    "cdf = pd.concat([df13,df23,df_three])\n",
    "\n",
    "sns.lineplot(ax=ax[2][0],\n",
    "             x=\"actuals\",\n",
    "             y=\"predicted\",\n",
    "             hue=\"Data Type\",\n",
    "             data=cdf,\n",
    "             errorbar=\"sd\",\n",
    "             palette={\"Orientation\": \"blue\", \"Monochrome\": \"red\", \"Scrambled\": \"green\"})\n",
    "\n",
    "sns.boxplot(ax=ax[2][1],\n",
    "            data=cdf,\n",
    "            x=\"actuals\",\n",
    "            y=\"predicted\",\n",
    "            hue=\"Data Type\",\n",
    "            fill=False,\n",
    "            gap=.4,\n",
    "            whis=(0,100),\n",
    "            width=.5,\n",
    "            palette={\"Orientation\": \"blue\", \"Monochrome\": \"red\", \"Scrambled\": \"green\"})\n",
    "\n",
    "ax[2][0].legend(loc='upper left')\n",
    "\n",
    "for i,examiner in enumerate([\"Standard Deviation\",\"Interquartile Range\"]):\n",
    "    for j,examined in enumerate([\"Orientation\",\"Monochrome\",\"Scrambled\"]):\n",
    "        ax[j][i].set_xlabel(\"Actual turning rate\")\n",
    "        ax[j][i].set_ylabel(\"Absolute mean prediction difference\")\n",
    "        ax[j][i].set_title(f\"{examiner} Comparison Interpolating on {examined}\")\n",
    "        if i == 0:\n",
    "            ax[j][i].set_xscale(\"log\")\n",
    "            ax[j][i].get_xaxis().set_major_formatter(ticker.ScalarFormatter())\n",
    "            ax[j][i].set_xticks(np.unique(y_val1))\n",
    "\n",
    "\n",
    "\n",
    "fig.tight_layout()\n"
   ]
  }
 ],
 "metadata": {
  "kernelspec": {
   "display_name": "Python 3 (ipykernel)",
   "language": "python",
   "name": "python3"
  },
  "language_info": {
   "codemirror_mode": {
    "name": "ipython",
    "version": 3
   },
   "file_extension": ".py",
   "mimetype": "text/x-python",
   "name": "python",
   "nbconvert_exporter": "python",
   "pygments_lexer": "ipython3",
   "version": "3.10.12"
  }
 },
 "nbformat": 4,
 "nbformat_minor": 5
}
